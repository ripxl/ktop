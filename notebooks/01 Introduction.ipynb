{
 "cells": [
  {
   "cell_type": "markdown",
   "metadata": {},
   "source": [
    "# Introduction\n",
    "`ktop` provides a set of interactive Jupyter Widgets that wrap higher-order Jupyter concepts such as Kernels, the Notebook format, and the activity of actually working with a notebook. By treating these concepts as _interactive data_, they can be used in new ways."
   ]
  },
  {
   "cell_type": "code",
   "execution_count": 1,
   "metadata": {},
   "outputs": [],
   "source": [
    "import ktop"
   ]
  },
  {
   "cell_type": "code",
   "execution_count": 2,
   "metadata": {},
   "outputs": [],
   "source": [
    "nb = ktop.Notebook()\n",
    "nb.nbformat.cells = [ktop.Code(\"print('hello world')\")]"
   ]
  },
  {
   "cell_type": "code",
   "execution_count": 3,
   "metadata": {},
   "outputs": [],
   "source": [
    "k = nb.run_one()"
   ]
  },
  {
   "cell_type": "markdown",
   "metadata": {},
   "source": [
    "... wait a while"
   ]
  },
  {
   "cell_type": "code",
   "execution_count": 4,
   "metadata": {},
   "outputs": [
    {
     "name": "stdout",
     "output_type": "stream",
     "text": [
      "Code(outputs=(Stream(name='stdout', output_type='stream', text='hello world\\n'),), source=\"print('hello world')\")\n"
     ]
    }
   ],
   "source": [
    "print(k.nbformat.cells[0])"
   ]
  },
  {
   "cell_type": "code",
   "execution_count": 10,
   "metadata": {},
   "outputs": [],
   "source": [
    "for world in \"☿♀🜨♂♃♄⛢♆\":\n",
    "    k = nb.run_one(reuse=False)\n",
    "    k.nbformat.cells[0].source = f\"print('hello {world}')\""
   ]
  },
  {
   "cell_type": "code",
   "execution_count": 11,
   "metadata": {},
   "outputs": [],
   "source": [
    "# ... wait a while"
   ]
  },
  {
   "cell_type": "code",
   "execution_count": 12,
   "metadata": {},
   "outputs": [
    {
     "name": "stdout",
     "output_type": "stream",
     "text": [
      "()\n",
      "(Stream(name='stdout', output_type='stream', text='hello ☿\\n'),)\n",
      "(Stream(name='stdout', output_type='stream', text='hello ♀\\n'),)\n",
      "(Stream(name='stdout', output_type='stream', text='hello 🜨\\n'),)\n",
      "(Stream(name='stdout', output_type='stream', text='hello ♂\\n'),)\n",
      "(Stream(name='stdout', output_type='stream', text='hello ♃\\n'),)\n",
      "(Stream(name='stdout', output_type='stream', text='hello ♄\\n'),)\n",
      "(Stream(name='stdout', output_type='stream', text='hello ⛢\\n'),)\n",
      "(Stream(name='stdout', output_type='stream', text='hello ♆\\n'),)\n"
     ]
    }
   ],
   "source": [
    "for k in nb.kernels:\n",
    "    print(k.nbformat.cells[0].outputs)"
   ]
  }
 ],
 "metadata": {
  "kernelspec": {
   "display_name": "Python 3",
   "language": "python",
   "name": "python3"
  },
  "language_info": {
   "codemirror_mode": {
    "name": "ipython",
    "version": 3
   },
   "file_extension": ".py",
   "mimetype": "text/x-python",
   "name": "python",
   "nbconvert_exporter": "python",
   "pygments_lexer": "ipython3",
   "version": "3.6.6"
  }
 },
 "nbformat": 4,
 "nbformat_minor": 2
}
