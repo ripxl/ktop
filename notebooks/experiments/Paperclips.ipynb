{
 "cells": [
  {
   "cell_type": "code",
   "execution_count": 40,
   "metadata": {},
   "outputs": [],
   "source": [
    "import traitlets as T, ipywidgets as W\n",
    "from collections import OrderedDict\n",
    "from nbconvert.filters import markdown2html_mistune"
   ]
  },
  {
   "cell_type": "code",
   "execution_count": 41,
   "metadata": {},
   "outputs": [],
   "source": [
    "def markdown(text):\n",
    "    return W.HTML(markdown2html_mistune(text))"
   ]
  },
  {
   "cell_type": "code",
   "execution_count": 84,
   "metadata": {},
   "outputs": [],
   "source": [
    "name = W.Text(\"🤖\", description=\"name\")"
   ]
  },
  {
   "cell_type": "code",
   "execution_count": 85,
   "metadata": {},
   "outputs": [],
   "source": [
    "clips_history = W.IntText(0, description=\"Binder Clips\", disabled=True)"
   ]
  },
  {
   "cell_type": "code",
   "execution_count": 86,
   "metadata": {},
   "outputs": [],
   "source": [
    "clips = W.IntText(0, description=\"Unsold Inventory\", disabled=True)"
   ]
  },
  {
   "cell_type": "code",
   "execution_count": 87,
   "metadata": {},
   "outputs": [],
   "source": [
    "cash = W.IntText(1e2, description=\"Cash\", disabled=True)"
   ]
  },
  {
   "cell_type": "code",
   "execution_count": 88,
   "metadata": {},
   "outputs": [],
   "source": [
    "price_clip = W.FloatSlider(description=\"Clip Price\", min=0.00001, max=1, step=0.001)"
   ]
  },
  {
   "cell_type": "code",
   "execution_count": 89,
   "metadata": {},
   "outputs": [],
   "source": [
    "wire = W.IntText(1e3, description=\"Wire (in)\", disabled=True)"
   ]
  },
  {
   "cell_type": "code",
   "execution_count": 90,
   "metadata": {},
   "outputs": [],
   "source": [
    "btn_make_clip = W.Button(description=\"Make Binderclip\")\n",
    "\n",
    "@btn_make_clip.on_click\n",
    "def _make_clip(_):\n",
    "    if wire.value:\n",
    "        wire.value -= 1\n",
    "        clips_history.value += 1\n",
    "        clips.value += 1"
   ]
  },
  {
   "cell_type": "code",
   "execution_count": 91,
   "metadata": {},
   "outputs": [],
   "source": [
    "price_wire = W.IntText(10, description=\"Wire Price\", disabled=True)"
   ]
  },
  {
   "cell_type": "code",
   "execution_count": 92,
   "metadata": {},
   "outputs": [],
   "source": [
    "spool_size = W.IntText(100, description=\"Spool Size\", disabled=True)"
   ]
  },
  {
   "cell_type": "code",
   "execution_count": 93,
   "metadata": {},
   "outputs": [],
   "source": [
    "btn_buy_wire = W.Button(description=\"Buy Wire\")\n",
    "@btn_buy_wire.on_click\n",
    "def click(_):\n",
    "    if cash.value >= price_wire.value:\n",
    "        cash.value -= price_wire.value\n",
    "        wire.value += spool_size.value"
   ]
  },
  {
   "cell_type": "code",
   "execution_count": 94,
   "metadata": {},
   "outputs": [
    {
     "ename": "Exception",
     "evalue": "Interactive",
     "output_type": "error",
     "traceback": [
      "\u001b[0;31m---------------------------------------------------------------------------\u001b[0m",
      "\u001b[0;31mException\u001b[0m                                 Traceback (most recent call last)",
      "\u001b[0;32m<ipython-input-94-02c1126fdf84>\u001b[0m in \u001b[0;36m<module>\u001b[0;34m()\u001b[0m\n\u001b[0;32m----> 1\u001b[0;31m \u001b[0;32mraise\u001b[0m \u001b[0mException\u001b[0m\u001b[0;34m(\u001b[0m\u001b[0;34m\"Interactive\"\u001b[0m\u001b[0;34m)\u001b[0m\u001b[0;34m\u001b[0m\u001b[0m\n\u001b[0m",
      "\u001b[0;31mException\u001b[0m: Interactive"
     ]
    }
   ],
   "source": [
    "raise Exception(\"Interactive\")"
   ]
  },
  {
   "cell_type": "code",
   "execution_count": 95,
   "metadata": {},
   "outputs": [
    {
     "data": {
      "application/vnd.jupyter.widget-view+json": {
       "model_id": "5d9731770b1649fdb99e176024e9b0d1",
       "version_major": 2,
       "version_minor": 0
      },
      "text/plain": [
       "HBox(children=(VBox(children=(Text(value='🤖', description='name'), HTML(value='<h3 id=\"Supply-Chain\">Supply Ch…"
      ]
     },
     "metadata": {},
     "output_type": "display_data"
    }
   ],
   "source": [
    "ui = W.HBox([\n",
    "    W.VBox([\n",
    "        name,\n",
    "        markdown(\"### Supply Chain\"),\n",
    "        wire,\n",
    "        W.HBox([\n",
    "            spool_size,\n",
    "            price_wire,\n",
    "            btn_buy_wire,\n",
    "        ]),\n",
    "        markdown(\"### Manufacturing\"),\n",
    "        W.HBox([\n",
    "            clips_history,\n",
    "            btn_make_clip,\n",
    "        ]),\n",
    "        markdown(\"### Business\"),\n",
    "        W.VBox([\n",
    "            cash,\n",
    "            clips,\n",
    "        ]),\n",
    "    ])\n",
    "], description=\"ui\")\n",
    "display(ui)"
   ]
  },
  {
   "cell_type": "code",
   "execution_count": null,
   "metadata": {},
   "outputs": [],
   "source": []
  }
 ],
 "metadata": {
  "kernelspec": {
   "display_name": "Python 3",
   "language": "python",
   "name": "python3"
  },
  "language_info": {
   "codemirror_mode": {
    "name": "ipython",
    "version": 3
   },
   "file_extension": ".py",
   "mimetype": "text/x-python",
   "name": "python",
   "nbconvert_exporter": "python",
   "pygments_lexer": "ipython3",
   "version": "3.6.6"
  }
 },
 "nbformat": 4,
 "nbformat_minor": 2
}
