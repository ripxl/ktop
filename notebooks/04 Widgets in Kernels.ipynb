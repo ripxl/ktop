{
 "cells": [
  {
   "cell_type": "markdown",
   "metadata": {},
   "source": [
    "# Widgets in Kernels\n",
    "In addition to using kernels in code, you can interact with the widgets created by a notebook, or even multiple notebooks.\n",
    "\n",
    "> This approach probably won't work for complex widgets like bqplot (yet), but likely the implementation can improve."
   ]
  },
  {
   "cell_type": "code",
   "execution_count": 1,
   "metadata": {},
   "outputs": [],
   "source": [
    "import ktop"
   ]
  },
  {
   "cell_type": "code",
   "execution_count": 2,
   "metadata": {},
   "outputs": [],
   "source": [
    "nb = ktop.Notebook()\n",
    "nb.nbformat.cells = list(map(ktop.Code, [\n",
    "    \"\"\"from ipywidgets import FloatSlider, VBox\\nfrom traitlets import dlink\\nimport math\"\"\",\n",
    "    \"\"\"x, y, z = [FloatSlider(value=1.0, description='${}$'.format(a), min=-1.0, max=1.0) for a in \"xyz\"]\"\"\",\n",
    "    \"\"\"dlink((x, \"value\"), (y, \"value\"), math.sin)\\ndlink((x, \"value\"), (z, \"value\"), math.cos)\"\"\",\n",
    "]))\n",
    "yak = nb.run_one(shutdown=False, reuse=False)\n",
    "zebra = nb.run_one(shutdown=False, reuse=False)"
   ]
  },
  {
   "cell_type": "code",
   "execution_count": 3,
   "metadata": {},
   "outputs": [
    {
     "data": {
      "application/vnd.jupyter.widget-view+json": {
       "model_id": "da25a41dc6ab45e599b9a25064e9a8ef",
       "version_major": 2,
       "version_minor": 0
      },
      "text/plain": [
       "HBox(children=(VBox(children=(FloatSlider(value=1.0, description='$x$', max=1.0, min=-1.0), FloatSlider(value=…"
      ]
     },
     "metadata": {},
     "output_type": "display_data"
    }
   ],
   "source": [
    "yak_widgets = [w for w in yak.widgets if hasattr(w, \"layout\")]\n",
    "zebra_widgets = [w for w in zebra.widgets if hasattr(w, \"layout\")]\n",
    "ktop.W.HBox([ktop.W.VBox(yak_widgets), ktop.W.VBox(zebra_widgets)])"
   ]
  },
  {
   "cell_type": "markdown",
   "metadata": {},
   "source": [
    "Because these widgets live in both the host kernel (that imported `ktop`) and the guest kernel, these can be `link`ed."
   ]
  },
  {
   "cell_type": "code",
   "execution_count": 4,
   "metadata": {},
   "outputs": [
    {
     "data": {
      "application/vnd.jupyter.widget-view+json": {
       "model_id": "902b870cb2de41ca8d6596451ce429ad",
       "version_major": 2,
       "version_minor": 0
      },
      "text/plain": [
       "FloatSlider(value=0.0, description='$\\\\Sigma _{zebra}  \\\\Sigma _{yak}$', max=9.0, min=-9.0)"
      ]
     },
     "metadata": {},
     "output_type": "display_data"
    }
   ],
   "source": [
    "xyz = ktop.W.FloatSlider(description=\"$\\Sigma _{zebra}  \\Sigma _{yak}$\", min=-9, max=9)\n",
    "def _update_xyz(_):\n",
    "    xyz.value = sum([w.value for w in yak_widgets]) * sum([w.value for w in zebra_widgets])\n",
    "[w.observe(_update_xyz) for w in yak_widgets + zebra_widgets]\n",
    "xyz"
   ]
  },
  {
   "cell_type": "markdown",
   "metadata": {},
   "source": [
    "While these examples are all based on `ipykernel`, theoretically any kernel implementing the widget message spec should work."
   ]
  }
 ],
 "metadata": {
  "kernelspec": {
   "display_name": "Python 3",
   "language": "python",
   "name": "python3"
  },
  "language_info": {
   "codemirror_mode": {
    "name": "ipython",
    "version": 3
   },
   "file_extension": ".py",
   "mimetype": "text/x-python",
   "name": "python",
   "nbconvert_exporter": "python",
   "pygments_lexer": "ipython3",
   "version": "3.6.6"
  }
 },
 "nbformat": 4,
 "nbformat_minor": 2
}
