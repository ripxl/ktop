{
 "cells": [
  {
   "cell_type": "markdown",
   "metadata": {},
   "source": [
    "# Notebooks and Kernels as Jupyter Widgets"
   ]
  },
  {
   "cell_type": "code",
   "execution_count": 1,
   "metadata": {},
   "outputs": [],
   "source": [
    "import math, random, ktop, IPython.display as display"
   ]
  },
  {
   "cell_type": "code",
   "execution_count": 2,
   "metadata": {},
   "outputs": [],
   "source": [
    "if __name__ == \"__main__\":\n",
    "    nb = ktop.Notebook()\n",
    "    nb.nbformat.cells = list(map(ktop.Code, [\n",
    "        \"\"\"x = y = z = 1.0\"\"\",\n",
    "        \"\"\"z = y ** x\"\"\",\n",
    "        \"\"\"print(z)\"\"\"\n",
    "    ]))"
   ]
  },
  {
   "cell_type": "markdown",
   "metadata": {},
   "source": [
    "You set the cells, or any notebook content. Then you can run it. `run_one` returns a `Kernel`. By default, the kernel will be shut down as soon as it becomes `idle`."
   ]
  },
  {
   "cell_type": "code",
   "execution_count": 3,
   "metadata": {},
   "outputs": [],
   "source": [
    "a_kernel = nb.run_one()"
   ]
  },
  {
   "cell_type": "markdown",
   "metadata": {},
   "source": [
    "After a `run` completes, the `nbformat` will contain all of the output values one would expect..."
   ]
  },
  {
   "cell_type": "code",
   "execution_count": 4,
   "metadata": {},
   "outputs": [
    {
     "data": {
      "text/plain": [
       "(Code(source='x = y = z = 1.0'),\n",
       " Code(source='z = y ** x'),\n",
       " Code(source='print(z)'))"
      ]
     },
     "execution_count": 4,
     "metadata": {},
     "output_type": "execute_result"
    }
   ],
   "source": [
    "a_kernel.nbformat.cells"
   ]
  },
  {
   "cell_type": "markdown",
   "metadata": {},
   "source": [
    "...while the original notebook cells remain unchanged."
   ]
  },
  {
   "cell_type": "code",
   "execution_count": 5,
   "metadata": {},
   "outputs": [
    {
     "data": {
      "text/plain": [
       "(Code(source='x = y = z = 1.0'),\n",
       " Code(source='z = y ** x'),\n",
       " Code(source='print(z)'))"
      ]
     },
     "execution_count": 5,
     "metadata": {},
     "output_type": "execute_result"
    }
   ],
   "source": [
    "nb.nbformat.cells"
   ]
  },
  {
   "cell_type": "markdown",
   "metadata": {},
   "source": [
    "You can start another Kernel, and modify its source."
   ]
  },
  {
   "cell_type": "code",
   "execution_count": 6,
   "metadata": {},
   "outputs": [],
   "source": [
    "another_kernel = nb.run_one(reuse=False)\n",
    "another_kernel.nbformat.cells[0].source = 'x = y = z = 2.0'"
   ]
  },
  {
   "cell_type": "markdown",
   "metadata": {},
   "source": [
    "> this demonstrates a ~~bug~~ feature of using Python threading: by the time `another_kernel` actually fires up, it's `nbformat` will have been populated with the changed cells"
   ]
  },
  {
   "cell_type": "code",
   "execution_count": 7,
   "metadata": {},
   "outputs": [
    {
     "data": {
      "text/plain": [
       "(Code(source='x = y = z = 2.0'),\n",
       " Code(source='z = y ** x'),\n",
       " Code(source='print(z)'))"
      ]
     },
     "execution_count": 7,
     "metadata": {},
     "output_type": "execute_result"
    }
   ],
   "source": [
    "another_kernel.nbformat.cells"
   ]
  },
  {
   "cell_type": "code",
   "execution_count": null,
   "metadata": {},
   "outputs": [],
   "source": []
  }
 ],
 "metadata": {
  "kernelspec": {
   "display_name": "Python 3",
   "language": "python",
   "name": "python3"
  },
  "language_info": {
   "codemirror_mode": {
    "name": "ipython",
    "version": 3
   },
   "file_extension": ".py",
   "mimetype": "text/x-python",
   "name": "python",
   "nbconvert_exporter": "python",
   "pygments_lexer": "ipython3",
   "version": "3.6.6"
  }
 },
 "nbformat": 4,
 "nbformat_minor": 2
}
